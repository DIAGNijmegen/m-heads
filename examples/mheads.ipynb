{
 "cells": [
  {
   "cell_type": "markdown",
   "metadata": {},
   "source": [
    "# MHeads"
   ]
  },
  {
   "cell_type": "markdown",
   "metadata": {},
   "source": [
    "### Running MHeads on MNIST, and checking OOD-detection"
   ]
  },
  {
   "cell_type": "code",
   "execution_count": 1,
   "metadata": {},
   "outputs": [],
   "source": [
    "%matplotlib inline\n",
    "\n",
    "import matplotlib\n",
    "import numpy as np\n",
    "import matplotlib.pyplot as plt\n",
    "plt.style.use('ggplot')\n",
    "\n",
    "import sys\n",
    "sys.path.append('..')\n",
    "\n",
    "import torch\n",
    "import torch.nn.functional as F\n",
    "import torch.nn as nn\n",
    "import torch.utils.data\n",
    "from torch.utils.data.dataset import Subset\n",
    "from torchvision import datasets, transforms\n",
    "from collections import OrderedDict\n",
    "from tqdm import tqdm\n",
    "from random import shuffle\n",
    "from scipy.stats import entropy\n",
    "import collections"
   ]
  },
  {
   "cell_type": "markdown",
   "metadata": {},
   "source": [
    "## Defining the model"
   ]
  },
  {
   "cell_type": "code",
   "execution_count": 2,
   "metadata": {},
   "outputs": [],
   "source": [
    "class MHeads(nn.Module):\n",
    "    eps = 1e-6\n",
    "\n",
    "    def __init__(self, in_shape=[1, 28, 28], dropout_p=0.3, classes=10, num_heads=5):\n",
    "        super(MHeads, self).__init__()\n",
    "    \n",
    "        self.p = dropout_p\n",
    "        self.in_shape = in_shape\n",
    "        self.classes = classes\n",
    "        self.num_heads = num_heads\n",
    "        \n",
    "        self.conv_layers = nn.Sequential(OrderedDict([\n",
    "            ('conv0', nn.Conv2d(in_shape[0], 32, 5, stride=1, padding=2, bias=True)),\n",
    "            ('act0',  nn.ReLU()),\n",
    "            ('pool0',  nn.AvgPool2d(2, stride=2)),\n",
    "            ('conv1', nn.Conv2d(32, 64, 5, stride=1, padding=2, bias=True)),\n",
    "            ('act1',  nn.ReLU()),\n",
    "            ('pool1',  nn.AvgPool2d(2, stride=2)),\n",
    "            ('conv2', nn.Conv2d(64, 128, 5, stride=1, padding=2, bias=True)),\n",
    "            ('act2',  nn.ReLU()),\n",
    "        ]))\n",
    "        \n",
    "        def head():\n",
    "            return nn.Sequential(OrderedDict([\n",
    "                ('fc0', nn.Linear(128 * 7 * 7, 1024)),\n",
    "                ('drop1', nn.Dropout(p=self.p)),\n",
    "                ('fc1', nn.Linear(1024, 256)),\n",
    "                ('drop0', nn.Dropout(p=self.p)),\n",
    "                ('fc2', nn.Linear(256, self.classes))\n",
    "            ]))\n",
    "        \n",
    "        self.mheads = nn.ModuleList(\n",
    "            [head() for _ in range(self.num_heads)]\n",
    "        )\n",
    " \n",
    "        # Initialise layers. \n",
    "        for m in self.modules():\n",
    "            if isinstance(m, nn.Conv2d) or isinstance(m, nn.Linear):\n",
    "                m.weight.data.normal_(0, 0.01)\n",
    "                m.bias.data.zero_()\n",
    "\n",
    "    def forward(self, x):\n",
    "        x = self.conv_layers(x)\n",
    "        x = x.view(-1, 7 * 7 * 128)\n",
    "        head_predictions = [self.mheads[i](x) for i in range(self.num_heads)]\n",
    "        return torch.stack(head_predictions, dim=-1)"
   ]
  },
  {
   "cell_type": "markdown",
   "metadata": {},
   "source": [
    "## Defining loss function"
   ]
  },
  {
   "cell_type": "code",
   "execution_count": 3,
   "metadata": {},
   "outputs": [],
   "source": [
    "epochs = 15\n",
    "lr = 1e-3\n",
    "device = torch.device('cuda:0')\n",
    "mhead_random = 0.01\n",
    "mhead_eps = 0.05\n",
    "\n",
    "model = MHeads().to(device)\n",
    "model.train()\n",
    "optimizer = torch.optim.Adam(model.parameters(), lr=lr)\n",
    "\n",
    "def loss_function(logits, targets, num_heads):\n",
    "\n",
    "    # Compute loss for each head.\n",
    "    losses = [F.cross_entropy(logits[..., i].squeeze(), targets) for i in range(num_heads)]\n",
    "\n",
    "    # Compute head with least loss.\n",
    "    _, best_head_idx = torch.stack(losses, dim=-1).min(-1)\n",
    "    best_head_idx = int(best_head_idx.cpu().numpy().squeeze())\n",
    "\n",
    "    # Occasionally randomly choose a head to avoid idle heads.\n",
    "    if np.random.binomial(1, mhead_random):\n",
    "        best_head_idx = np.random.choice(range(num_heads))\n",
    "\n",
    "    # Multiply losses for each head (include random element).\n",
    "    multiplier  = [mhead_eps / (num_heads - 1) for _ in range(num_heads)]\n",
    "    multiplier[best_head_idx] = 1 - mhead_eps\n",
    "\n",
    "    loss = sum([losses[i] * multiplier[i] for i in range(num_heads)])\n",
    "    return loss"
   ]
  },
  {
   "cell_type": "code",
   "execution_count": 4,
   "metadata": {},
   "outputs": [
    {
     "data": {
      "text/plain": [
       "torch.Size([1, 10, 5])"
      ]
     },
     "execution_count": 4,
     "metadata": {},
     "output_type": "execute_result"
    }
   ],
   "source": [
    "# Testing model\n",
    "x = np.random.randn(1, 1, 28, 28)\n",
    "x = torch.from_numpy(x).type(torch.float32)\n",
    "\n",
    "# Output shape: [#batch size, #classes, #heads]\n",
    "model(x.cuda()).shape"
   ]
  },
  {
   "cell_type": "markdown",
   "metadata": {},
   "source": [
    "## Initialize data loaders"
   ]
  },
  {
   "cell_type": "code",
   "execution_count": 5,
   "metadata": {},
   "outputs": [
    {
     "name": "stderr",
     "output_type": "stream",
     "text": [
      "0it [00:00, ?it/s]"
     ]
    },
    {
     "name": "stdout",
     "output_type": "stream",
     "text": [
      "Downloading http://yann.lecun.com/exdb/mnist/train-images-idx3-ubyte.gz to data/MNIST/raw/train-images-idx3-ubyte.gz\n"
     ]
    },
    {
     "name": "stderr",
     "output_type": "stream",
     "text": [
      "9920512it [00:01, 9136741.40it/s]                             \n"
     ]
    },
    {
     "name": "stdout",
     "output_type": "stream",
     "text": [
      "Extracting data/MNIST/raw/train-images-idx3-ubyte.gz to data/MNIST/raw\n"
     ]
    },
    {
     "name": "stderr",
     "output_type": "stream",
     "text": [
      "0it [00:00, ?it/s]"
     ]
    },
    {
     "name": "stdout",
     "output_type": "stream",
     "text": [
      "Downloading http://yann.lecun.com/exdb/mnist/train-labels-idx1-ubyte.gz to data/MNIST/raw/train-labels-idx1-ubyte.gz\n"
     ]
    },
    {
     "name": "stderr",
     "output_type": "stream",
     "text": [
      "32768it [00:00, 116833.50it/s]           \n",
      "0it [00:00, ?it/s]"
     ]
    },
    {
     "name": "stdout",
     "output_type": "stream",
     "text": [
      "Extracting data/MNIST/raw/train-labels-idx1-ubyte.gz to data/MNIST/raw\n",
      "Downloading http://yann.lecun.com/exdb/mnist/t10k-images-idx3-ubyte.gz to data/MNIST/raw/t10k-images-idx3-ubyte.gz\n"
     ]
    },
    {
     "name": "stderr",
     "output_type": "stream",
     "text": [
      "1654784it [00:00, 2267846.51it/s]                           \n"
     ]
    },
    {
     "name": "stdout",
     "output_type": "stream",
     "text": [
      "Extracting data/MNIST/raw/t10k-images-idx3-ubyte.gz to data/MNIST/raw\n"
     ]
    },
    {
     "name": "stderr",
     "output_type": "stream",
     "text": [
      "0it [00:00, ?it/s]"
     ]
    },
    {
     "name": "stdout",
     "output_type": "stream",
     "text": [
      "Downloading http://yann.lecun.com/exdb/mnist/t10k-labels-idx1-ubyte.gz to data/MNIST/raw/t10k-labels-idx1-ubyte.gz\n"
     ]
    },
    {
     "name": "stderr",
     "output_type": "stream",
     "text": [
      "8192it [00:00, 37847.50it/s]            \n"
     ]
    },
    {
     "name": "stdout",
     "output_type": "stream",
     "text": [
      "Extracting data/MNIST/raw/t10k-labels-idx1-ubyte.gz to data/MNIST/raw\n",
      "Processing...\n",
      "Done!\n"
     ]
    },
    {
     "name": "stderr",
     "output_type": "stream",
     "text": [
      "  0%|          | 40960/26421880 [00:00<01:10, 373874.49it/s]"
     ]
    },
    {
     "name": "stdout",
     "output_type": "stream",
     "text": [
      "Downloading http://fashion-mnist.s3-website.eu-central-1.amazonaws.com/train-images-idx3-ubyte.gz to data/FashionMNIST/raw/train-images-idx3-ubyte.gz\n"
     ]
    },
    {
     "name": "stderr",
     "output_type": "stream",
     "text": [
      "26427392it [00:01, 19762065.44it/s]                              \n"
     ]
    },
    {
     "name": "stdout",
     "output_type": "stream",
     "text": [
      "Extracting data/FashionMNIST/raw/train-images-idx3-ubyte.gz to data/FashionMNIST/raw\n"
     ]
    },
    {
     "name": "stderr",
     "output_type": "stream",
     "text": [
      "32768it [00:00, 251685.58it/s]           \n",
      "0it [00:00, ?it/s]"
     ]
    },
    {
     "name": "stdout",
     "output_type": "stream",
     "text": [
      "Downloading http://fashion-mnist.s3-website.eu-central-1.amazonaws.com/train-labels-idx1-ubyte.gz to data/FashionMNIST/raw/train-labels-idx1-ubyte.gz\n",
      "Extracting data/FashionMNIST/raw/train-labels-idx1-ubyte.gz to data/FashionMNIST/raw\n",
      "Downloading http://fashion-mnist.s3-website.eu-central-1.amazonaws.com/t10k-images-idx3-ubyte.gz to data/FashionMNIST/raw/t10k-images-idx3-ubyte.gz\n"
     ]
    },
    {
     "name": "stderr",
     "output_type": "stream",
     "text": [
      "4423680it [00:00, 9417602.32it/s]                              \n",
      "0it [00:00, ?it/s]"
     ]
    },
    {
     "name": "stdout",
     "output_type": "stream",
     "text": [
      "Extracting data/FashionMNIST/raw/t10k-images-idx3-ubyte.gz to data/FashionMNIST/raw\n",
      "Downloading http://fashion-mnist.s3-website.eu-central-1.amazonaws.com/t10k-labels-idx1-ubyte.gz to data/FashionMNIST/raw/t10k-labels-idx1-ubyte.gz\n"
     ]
    },
    {
     "name": "stderr",
     "output_type": "stream",
     "text": [
      "8192it [00:00, 119557.46it/s]\n"
     ]
    },
    {
     "name": "stdout",
     "output_type": "stream",
     "text": [
      "Extracting data/FashionMNIST/raw/t10k-labels-idx1-ubyte.gz to data/FashionMNIST/raw\n",
      "Processing...\n",
      "Done!\n"
     ]
    }
   ],
   "source": [
    "train_batch_size = 128\n",
    "inference_batch_size = 1\n",
    "\n",
    "mnist_trainingset = datasets.MNIST('data', train=True, download=True,\n",
    "                                   transform=transforms.Compose([\n",
    "                                       transforms.ToTensor(),\n",
    "                                       transforms.Normalize((0.1307,), (0.3081,))\n",
    "                                   ]))\n",
    "trainingset_indices = list(range(len(mnist_trainingset)))\n",
    "shuffle(trainingset_indices)\n",
    "\n",
    "train_loader = torch.utils.data.DataLoader(\n",
    "    Subset(mnist_trainingset, trainingset_indices[:50000]),\n",
    "    batch_size=train_batch_size, shuffle=True)\n",
    "\n",
    "valid_loader = torch.utils.data.DataLoader(\n",
    "    Subset(mnist_trainingset, trainingset_indices[50000:]),\n",
    "    batch_size=train_batch_size, shuffle=True)\n",
    "\n",
    "test_loader = torch.utils.data.DataLoader(\n",
    "    datasets.MNIST('data', train=False, transform=transforms.Compose([\n",
    "                       transforms.ToTensor(),\n",
    "                       transforms.Normalize((0.1307,), (0.3081,))\n",
    "                   ])),\n",
    "    batch_size=inference_batch_size, shuffle=False)\n",
    "\n",
    "fashion_loader = torch.utils.data.DataLoader(\n",
    "    datasets.FashionMNIST('data', train=False, download=True, transform=transforms.Compose([\n",
    "                       transforms.ToTensor(),\n",
    "                       transforms.Normalize((0.2860,), (0.3530,))\n",
    "                   ])),\n",
    "    batch_size=inference_batch_size, shuffle=False)"
   ]
  },
  {
   "cell_type": "markdown",
   "metadata": {},
   "source": [
    "## Define training and test steps"
   ]
  },
  {
   "cell_type": "code",
   "execution_count": 6,
   "metadata": {},
   "outputs": [],
   "source": [
    "def train_step(data, target):\n",
    "    \n",
    "    data, target = data.to(device), target.to(device)\n",
    "\n",
    "    optimizer.zero_grad()\n",
    "    output = model(data)\n",
    "    loss = loss_function(output, target, model.num_heads)\n",
    "\n",
    "    loss.backward()\n",
    "    optimizer.step()\n",
    "\n",
    "    softmax_output = torch.nn.functional.softmax(output.squeeze(), 1)\n",
    "    mean_output = torch.mean(softmax_output, dim=-1)\n",
    "    predictions = torch.argmax(mean_output, dim=1)\n",
    "    \n",
    "    acc = predictions.eq(target.view_as(predictions)).sum().item() / target.numel()\n",
    "    \n",
    "    return loss.item(), acc"
   ]
  },
  {
   "cell_type": "code",
   "execution_count": 7,
   "metadata": {},
   "outputs": [],
   "source": [
    "def test_step(data, target):\n",
    "    \n",
    "    data, target = data.to(device), target.to(device)\n",
    "\n",
    "    output = model(data)\n",
    "    loss = loss_function(output, target, model.num_heads)\n",
    "\n",
    "    softmax_output = torch.nn.functional.softmax(output.squeeze(), 1)\n",
    "    mean_output = torch.mean(softmax_output, dim=-1)\n",
    "    predictions = torch.argmax(mean_output, dim=1)\n",
    "    \n",
    "    acc = predictions.eq(target.view_as(predictions)).sum().item() / target.numel()\n",
    "\n",
    "    return loss.item(), acc"
   ]
  },
  {
   "cell_type": "markdown",
   "metadata": {},
   "source": [
    "## Train model"
   ]
  },
  {
   "cell_type": "code",
   "execution_count": 8,
   "metadata": {},
   "outputs": [
    {
     "name": "stdout",
     "output_type": "stream",
     "text": [
      "Training loss: 0.28283984737370704, accuracy: 0.904891304347826\n",
      "Validation loss: 0.11036691621323175, accuracy: 0.9750791139240507\n",
      "Training loss: 0.07310759701022922, accuracy: 0.9773177749360614\n",
      "Validation loss: 0.058144468106800996, accuracy: 0.9846716772151899\n",
      "Training loss: 0.04657296863410746, accuracy: 0.9860933503836317\n",
      "Validation loss: 0.03512689313273641, accuracy: 0.9888251582278481\n",
      "Training loss: 0.03749804270794363, accuracy: 0.9887468030690537\n",
      "Validation loss: 0.029067914036273533, accuracy: 0.9909018987341772\n",
      "Training loss: 0.026833821623407476, accuracy: 0.9912484015345269\n",
      "Validation loss: 0.03532561347996698, accuracy: 0.9901107594936709\n",
      "Training loss: 0.027451005109581057, accuracy: 0.9917359335038364\n",
      "Validation loss: 0.026991973831495153, accuracy: 0.9925830696202531\n",
      "Training loss: 0.02303536446920484, accuracy: 0.9928268861892583\n",
      "Validation loss: 0.041471463833682096, accuracy: 0.9879351265822784\n",
      "Training loss: 0.01968758467101323, accuracy: 0.9941416240409208\n",
      "Validation loss: 0.029908544414589597, accuracy: 0.9915941455696202\n",
      "Training loss: 0.016849244929492222, accuracy: 0.9947250639386189\n",
      "Validation loss: 0.026477059779343892, accuracy: 0.9936708860759493\n",
      "Training loss: 0.017776162039455132, accuracy: 0.9943534207161125\n",
      "Validation loss: 0.034144176538264424, accuracy: 0.9909018987341772\n",
      "Training loss: 0.010981459880627775, accuracy: 0.9962316176470588\n",
      "Validation loss: 0.027312282102880264, accuracy: 0.9921875\n",
      "Training loss: 0.01276646737154285, accuracy: 0.9962436061381074\n",
      "Validation loss: 0.03728393404567732, accuracy: 0.9910007911392406\n",
      "Training loss: 0.014335872667363074, accuracy: 0.9959239130434783\n",
      "Validation loss: 0.04211198015107446, accuracy: 0.9920886075949367\n",
      "Training loss: 0.016661846577149295, accuracy: 0.9957041240409207\n",
      "Validation loss: 0.06492747327525027, accuracy: 0.9899129746835443\n",
      "Training loss: 0.01356598565942714, accuracy: 0.9966232416879796\n",
      "Validation loss: 0.031001891696949408, accuracy: 0.9930775316455697\n"
     ]
    }
   ],
   "source": [
    "for epoch in range(epochs):\n",
    "\n",
    "    # Training epoch.\n",
    "    #\n",
    "    train_loss, train_acc = [], []\n",
    "\n",
    "    for batch_idx, (data, target) in enumerate(train_loader):\n",
    "        batch_loss, batch_acc = train_step(data, target)\n",
    "\n",
    "        train_loss.append(batch_loss)\n",
    "        train_acc.append(batch_acc)\n",
    "\n",
    "    print('Training loss: {}, accuracy: {}'.format(np.mean(train_loss), np.mean(train_acc)))\n",
    "\n",
    "    # Validation epoch.\n",
    "    #\n",
    "    test_loss, test_acc = [], []\n",
    "\n",
    "    for batch_idx, (data, target) in enumerate(valid_loader):\n",
    "        batch_loss, batch_acc = test_step(data, target)\n",
    "\n",
    "        test_loss.append(batch_loss)\n",
    "        test_acc.append(batch_acc)\n",
    "\n",
    "    print('Validation loss: {}, accuracy: {}'.format(np.mean(test_loss), np.mean(test_acc)))"
   ]
  },
  {
   "cell_type": "markdown",
   "metadata": {},
   "source": [
    "## Defining inference: averaging predictions across heads"
   ]
  },
  {
   "cell_type": "code",
   "execution_count": 9,
   "metadata": {},
   "outputs": [],
   "source": [
    "def inference(data_loader, n_classes=10):\n",
    "\n",
    "    all_predictions = np.zeros((len(data_loader), n_classes))\n",
    "    all_entropy = np.zeros(len(data_loader))\n",
    "    \n",
    "    for im_idx, (data, target) in enumerate(tqdm(data_loader)):\n",
    "        \n",
    "        data, target = data.to(device), target.to(device)\n",
    "            \n",
    "        output = torch.nn.functional.softmax(model(data).squeeze(), 0)\n",
    "        output = torch.mean(output, dim=-1)\n",
    "        output = output.cpu().detach().numpy()\n",
    "        all_predictions[im_idx, :] = output\n",
    "        all_entropy[im_idx] = entropy(output)\n",
    "    \n",
    "    return all_predictions, all_entropy"
   ]
  },
  {
   "cell_type": "markdown",
   "metadata": {},
   "source": [
    "## Inference on in-distribution"
   ]
  },
  {
   "cell_type": "code",
   "execution_count": 10,
   "metadata": {},
   "outputs": [
    {
     "name": "stderr",
     "output_type": "stream",
     "text": [
      "100%|██████████| 10000/10000 [00:19<00:00, 511.23it/s]\n"
     ]
    }
   ],
   "source": [
    "model.eval()\n",
    "test_predictions, test_entropy = inference(test_loader)"
   ]
  },
  {
   "cell_type": "markdown",
   "metadata": {},
   "source": [
    "## Inference on out-of-distribution: fashion mnist"
   ]
  },
  {
   "cell_type": "code",
   "execution_count": 11,
   "metadata": {},
   "outputs": [
    {
     "name": "stderr",
     "output_type": "stream",
     "text": [
      "100%|██████████| 10000/10000 [00:19<00:00, 518.46it/s]\n"
     ]
    }
   ],
   "source": [
    "model.eval()\n",
    "ood_predictions, ood_entropy = inference(fashion_loader)"
   ]
  },
  {
   "cell_type": "markdown",
   "metadata": {},
   "source": [
    "# Analysis"
   ]
  },
  {
   "cell_type": "markdown",
   "metadata": {},
   "source": [
    "## Results on test set"
   ]
  },
  {
   "cell_type": "code",
   "execution_count": 12,
   "metadata": {},
   "outputs": [
    {
     "name": "stdout",
     "output_type": "stream",
     "text": [
      "Accuracy on the MNIST test set:  0.9922\n"
     ]
    },
    {
     "name": "stderr",
     "output_type": "stream",
     "text": [
      "/usr/local/lib/python3.7/site-packages/torchvision/datasets/mnist.py:48: UserWarning: test_labels has been renamed targets\n",
      "  warnings.warn(\"test_labels has been renamed targets\")\n"
     ]
    }
   ],
   "source": [
    "test_labels = test_loader.dataset.test_labels.numpy()\n",
    "\n",
    "print('Accuracy on the MNIST test set: ', (test_predictions.argmax(1) == test_labels).mean())"
   ]
  },
  {
   "cell_type": "markdown",
   "metadata": {},
   "source": [
    "## Entropy"
   ]
  },
  {
   "cell_type": "code",
   "execution_count": 13,
   "metadata": {},
   "outputs": [
    {
     "data": {
      "image/png": "[encoded data removed]",
      "text/plain": [
       "<Figure size 576x360 with 1 Axes>"
      ]
     },
     "metadata": {
      "needs_background": "light"
     },
     "output_type": "display_data"
    }
   ],
   "source": [
    "plt.figure(figsize=(8,5))\n",
    "plt.hist(test_entropy, bins=200, label='in-distribution', color='#1f77b4', alpha=0.5)\n",
    "plt.hist(ood_entropy, bins=200, label='fashion', color='#d62728', alpha=0.5)\n",
    "plt.legend()\n",
    "plt.yscale('log')\n",
    "plt.title('Entropy')\n",
    "plt.show()"
   ]
  },
  {
   "cell_type": "markdown",
   "metadata": {},
   "source": [
    "## Ambiguous samples"
   ]
  },
  {
   "cell_type": "code",
   "execution_count": 14,
   "metadata": {},
   "outputs": [],
   "source": [
    "def get_extremes_n(data_loader, entropy_values, n=5, image_shape=[28, 28], lowest=False):\n",
    "    \n",
    "    if lowest:\n",
    "        indices = np.argpartition(entropy_values, n)[:n]\n",
    "    else:\n",
    "        indices = np.argpartition(entropy_values, -n)[-n:]\n",
    "\n",
    "    entropy = entropy_values[indices]\n",
    "    images = np.zeros([n] + image_shape)\n",
    "    labels = []\n",
    "    predictions = []\n",
    "    \n",
    "    counter = 0\n",
    "    for index, image in enumerate(data_loader):\n",
    "        \n",
    "        if index in indices:\n",
    "            images[counter] = image[0]\n",
    "            labels.append(image[1].item())\n",
    "            output = model(image[0].to(device))\n",
    "            softmax_output = torch.nn.functional.softmax(output.squeeze(0), 0)\n",
    "            mean_output = torch.mean(softmax_output, dim=-1)\n",
    "            prediction = torch.argmax(mean_output)\n",
    "            predictions.append(prediction.item())\n",
    "            counter += 1\n",
    "    \n",
    "    return images, labels, predictions, entropy"
   ]
  },
  {
   "cell_type": "markdown",
   "metadata": {},
   "source": [
    "### In distribution samples with high uncertainty"
   ]
  },
  {
   "cell_type": "code",
   "execution_count": 15,
   "metadata": {},
   "outputs": [
    {
     "data": {
      "image/png": "[encoded data removed]",
      "text/plain": [
       "<Figure size 720x576 with 5 Axes>"
      ]
     },
     "metadata": {
      "needs_background": "light"
     },
     "output_type": "display_data"
    }
   ],
   "source": [
    "images, labels, predictions, entropy = get_extremes_n(test_loader, test_entropy, lowest=False)\n",
    "\n",
    "plt.figure(1, figsize=(10, 8))\n",
    "for i in range(5):\n",
    "    plt.subplot(1,5,i + 1)\n",
    "    plt.imshow(images[i])\n",
    "    plt.title('{:.3f} \\n{}: {}\\n{}: {}'.format(entropy[i], 'gt label', labels[i], 'prediction', predictions[i]))\n",
    "    plt.axis('off')\n",
    "plt.show()"
   ]
  },
  {
   "cell_type": "markdown",
   "metadata": {},
   "source": [
    "### OOD samples with low uncertainty"
   ]
  },
  {
   "cell_type": "code",
   "execution_count": 16,
   "metadata": {},
   "outputs": [
    {
     "data": {
      "image/png": "[encoded data removed]",
      "text/plain": [
       "<Figure size 720x576 with 5 Axes>"
      ]
     },
     "metadata": {
      "needs_background": "light"
     },
     "output_type": "display_data"
    }
   ],
   "source": [
    "images, labels, predictions, entropy = get_extremes_n(fashion_loader, ood_entropy, lowest=True)\n",
    "\n",
    "plt.figure(1, figsize=(10, 8))\n",
    "for i in range(5):\n",
    "    plt.subplot(1,5,i + 1)\n",
    "    plt.imshow(images[i])\n",
    "    plt.title('{:.3f} \\n{}: {}'.format(entropy[i], 'prediction', predictions[i]))\n",
    "    plt.axis('off')\n",
    "plt.show()"
   ]
  },
  {
   "cell_type": "markdown",
   "metadata": {},
   "source": [
    "## AUC"
   ]
  },
  {
   "cell_type": "markdown",
   "metadata": {},
   "source": [
    "### out-of-distribution: Fashion MNIST"
   ]
  },
  {
   "cell_type": "code",
   "execution_count": 17,
   "metadata": {},
   "outputs": [
    {
     "data": {
      "image/png": "[encoded data removed]",
      "text/plain": [
       "<Figure size 432x288 with 1 Axes>"
      ]
     },
     "metadata": {
      "needs_background": "light"
     },
     "output_type": "display_data"
    }
   ],
   "source": [
    "from sklearn import metrics\n",
    "\n",
    "y_pred = np.concatenate([test_predictions.max(1), ood_predictions.max(1)])\n",
    "y_true = np.concatenate([np.ones(len(test_predictions)), np.zeros(len(ood_predictions))])\n",
    "fpr, tpr, thresholds = metrics.roc_curve(y_true, y_pred, pos_label=1)\n",
    "roc = metrics.auc(fpr, tpr)\n",
    "\n",
    "import matplotlib.pyplot as plt\n",
    "plt.title('Receiver Operating Characteristic')\n",
    "plt.plot(fpr, tpr, '#1f77b4', label = 'AUC = %0.3f' % roc)\n",
    "plt.legend(loc = 'lower right')\n",
    "plt.plot([0, 1], [0, 1],'--', color='#ff9896')\n",
    "plt.ylabel('True Positive Rate')\n",
    "plt.xlabel('False Positive Rate')\n",
    "plt.show()"
   ]
  }
 ],
 "metadata": {
  "kernelspec": {
   "display_name": "Python 3",
   "language": "python",
   "name": "python3"
  },
  "language_info": {
   "codemirror_mode": {
    "name": "ipython",
    "version": 3
   },
   "file_extension": ".py",
   "mimetype": "text/x-python",
   "name": "python",
   "nbconvert_exporter": "python",
   "pygments_lexer": "ipython3",
   "version": "3.7.1"
  }
 },
 "nbformat": 4,
 "nbformat_minor": 4
}
